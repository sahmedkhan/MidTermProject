{
 "cells": [
  {
   "cell_type": "code",
   "execution_count": 1,
   "id": "550f9f22",
   "metadata": {},
   "outputs": [
    {
     "name": "stdout",
     "output_type": "stream",
     "text": [
      "Clearing the background noises...\n",
      "Waiting for your message\n",
      "Done recording\n",
      "Recognixing\n",
      "Type the language code you want to translate: fr\n",
      "Enter the text to translate: my name is shafaat ahmed kahan\n",
      "An error occurred: 404 (Not Found) from TTS API. Probable cause: Unknown\n"
     ]
    }
   ],
   "source": [
    "import speech_recognition as sr\n",
    "from google_trans_new import google_translator\n",
    "import pyttsx3\n",
    "recognizer = sr.Recognizer()\n",
    "engine=pyttsx3.init()\n",
    "\n",
    "with sr.Microphone() as source:\n",
    "    print(\"Clearing the background noises...\")\n",
    "    recognizer.adjust_for_ambient_noise(source, duration=1)\n",
    "    print(\"Waiting for your message\")\n",
    "    audio=recognizer.listen(source, timeout=2)\n",
    "    print(\"Done recording\")\n",
    "try:\n",
    "    print(\"Recognixing\")\n",
    "    result=recognizer.recognize_google(audio,language='en')\n",
    "except Exception as ex:\n",
    "    print(ex)\n",
    "    \n",
    "def trans():\n",
    "    lang_input = input(\"Type the language code you want to translate: \")\n",
    "    text_to_translate = input(\"Enter the text to translate: \")\n",
    "    translator = google_translator()\n",
    "    translate_text = translator.translate(text_to_translate, lang_tgt=lang_input)\n",
    "    print(\"Translated Text:\", translate_text)\n",
    "    engine = pyttsx3.init()\n",
    "    engine.say(translate_text)\n",
    "    engine.runAndWait()\n",
    "\n",
    "trans()"
   ]
  },
  {
   "cell_type": "code",
   "execution_count": null,
   "id": "311b52d7",
   "metadata": {},
   "outputs": [],
   "source": []
  }
 ],
 "metadata": {
  "kernelspec": {
   "display_name": "Python 3 (ipykernel)",
   "language": "python",
   "name": "python3"
  },
  "language_info": {
   "codemirror_mode": {
    "name": "ipython",
    "version": 3
   },
   "file_extension": ".py",
   "mimetype": "text/x-python",
   "name": "python",
   "nbconvert_exporter": "python",
   "pygments_lexer": "ipython3",
   "version": "3.11.3"
  }
 },
 "nbformat": 4,
 "nbformat_minor": 5
}
